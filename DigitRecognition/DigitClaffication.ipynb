{
  "nbformat": 4,
  "nbformat_minor": 0,
  "metadata": {
    "colab": {
      "name": "ImageClaffication.ipynb",
      "provenance": [],
      "collapsed_sections": []
    },
    "kernelspec": {
      "name": "python3",
      "display_name": "Python 3"
    },
    "accelerator": "TPU"
  },
  "cells": [
    {
      "cell_type": "markdown",
      "metadata": {
        "id": "CFyzjkIja_xe",
        "colab_type": "text"
      },
      "source": [
        "Import Required Libraries"
      ]
    },
    {
      "cell_type": "code",
      "metadata": {
        "id": "bgx7Wbgs-MVN",
        "colab_type": "code",
        "colab": {}
      },
      "source": [
        "import tensorflow as tf\n",
        "import numpy as np\n",
        "import seaborn as sns\n",
        "import matplotlib.pyplot as plt\n",
        "\n",
        "from sklearn.svm import SVC\n",
        "\n",
        "from tensorflow.keras.models import Sequential\n",
        "from tensorflow.keras.layers import Conv2D, MaxPooling2D, Dropout, BatchNormalization, Flatten, Dense\n",
        "from tensorflow.keras.optimizers import Adam\n",
        "\n",
        "from sklearn.metrics import classification_report, confusion_matrix, accuracy_score"
      ],
      "execution_count": 43,
      "outputs": []
    },
    {
      "cell_type": "code",
      "metadata": {
        "id": "iWq6Kda0-Q53",
        "colab_type": "code",
        "colab": {
          "base_uri": "https://localhost:8080/",
          "height": 34
        },
        "outputId": "0a6cd730-525c-43a2-8ddf-f41fecfad975"
      },
      "source": [
        "print(\"TensorFlow Version: \", tf.__version__)"
      ],
      "execution_count": 2,
      "outputs": [
        {
          "output_type": "stream",
          "text": [
            "TensorFlow Version:  2.3.0\n"
          ],
          "name": "stdout"
        }
      ]
    },
    {
      "cell_type": "code",
      "metadata": {
        "id": "kTvZN7V8_fsv",
        "colab_type": "code",
        "colab": {}
      },
      "source": [
        "# mnist is a hand written digts data set\n",
        "# size of the image is 28*28\n",
        "mnist = tf.keras.datasets.mnist"
      ],
      "execution_count": 3,
      "outputs": []
    },
    {
      "cell_type": "markdown",
      "metadata": {
        "id": "bQmMaSJma9Ur",
        "colab_type": "text"
      },
      "source": [
        "Load Data"
      ]
    },
    {
      "cell_type": "code",
      "metadata": {
        "id": "ZlmQbIBjGufL",
        "colab_type": "code",
        "colab": {
          "base_uri": "https://localhost:8080/",
          "height": 50
        },
        "outputId": "9ba3b29f-5153-4f72-a598-776703a61acc"
      },
      "source": [
        "(x_train, y_train), (x_test, y_test) = mnist.load_data()"
      ],
      "execution_count": 4,
      "outputs": [
        {
          "output_type": "stream",
          "text": [
            "Downloading data from https://storage.googleapis.com/tensorflow/tf-keras-datasets/mnist.npz\n",
            "11493376/11490434 [==============================] - 0s 0us/step\n"
          ],
          "name": "stdout"
        }
      ]
    },
    {
      "cell_type": "markdown",
      "metadata": {
        "id": "UfGdgko7bFwv",
        "colab_type": "text"
      },
      "source": [
        "Convert y_train, y_test to categorical"
      ]
    },
    {
      "cell_type": "code",
      "metadata": {
        "id": "VR7Kgb7hXIoP",
        "colab_type": "code",
        "colab": {}
      },
      "source": [
        "y_train = tf.keras.utils.to_categorical(y_train, num_classes=10, dtype='float32')\n",
        "y_test = tf.keras.utils.to_categorical(y_test, num_classes=10, dtype='float32')"
      ],
      "execution_count": 5,
      "outputs": []
    },
    {
      "cell_type": "code",
      "metadata": {
        "id": "hqbv2Y5ZGzak",
        "colab_type": "code",
        "colab": {
          "base_uri": "https://localhost:8080/",
          "height": 84
        },
        "outputId": "2ad9c5fd-af44-488f-97ab-c3ec1f9e67d0"
      },
      "source": [
        "print(\"X Train Shape: \", x_train.shape)\n",
        "print(\"Y Train Shape: \", y_train.shape)\n",
        "print(\"X Test Shape: \", x_test.shape)\n",
        "print(\"Y Test Shape: \", y_test.shape)"
      ],
      "execution_count": 6,
      "outputs": [
        {
          "output_type": "stream",
          "text": [
            "X Train Shape:  (60000, 28, 28)\n",
            "Y Train Shape:  (60000, 10)\n",
            "X Test Shape:  (10000, 28, 28)\n",
            "Y Test Shape:  (10000, 10)\n"
          ],
          "name": "stdout"
        }
      ]
    },
    {
      "cell_type": "code",
      "metadata": {
        "id": "mjIolcLPHF10",
        "colab_type": "code",
        "colab": {
          "base_uri": "https://localhost:8080/",
          "height": 281
        },
        "outputId": "e1cefecf-6e43-4a9b-a3b1-b8f79a2a7ff9"
      },
      "source": [
        "plt.imshow(x_train[0], cmap=\"gray\")\n",
        "plt.title(\"Label: {}\".format(y_train[0]))\n",
        "plt.show()"
      ],
      "execution_count": 7,
      "outputs": [
        {
          "output_type": "display_data",
          "data": {
            "image/png": "[encoded data removed]",
            "text/plain": [
              "<Figure size 432x288 with 1 Axes>"
            ]
          },
          "metadata": {
            "tags": [],
            "needs_background": "light"
          }
        }
      ]
    },
    {
      "cell_type": "markdown",
      "metadata": {
        "id": "naolExcHbv8w",
        "colab_type": "text"
      },
      "source": [
        "Normalise The Pixel Values"
      ]
    },
    {
      "cell_type": "code",
      "metadata": {
        "id": "0ZhT1JCKISbM",
        "colab_type": "code",
        "colab": {}
      },
      "source": [
        "x_train = x_train.reshape(x_train.shape[0], 28, 28, 1)\n",
        "x_test = x_test.reshape(x_test.shape[0], 28, 28, 1)\n",
        "\n",
        "x_train = x_train / 255.0\n",
        "x_test = x_test / 255.0"
      ],
      "execution_count": 8,
      "outputs": []
    },
    {
      "cell_type": "code",
      "metadata": {
        "id": "RQ6U5TFsI2nD",
        "colab_type": "code",
        "colab": {}
      },
      "source": [
        "model = Sequential()\n",
        "\n",
        "\n",
        "model.add(Conv2D(filters=32, kernel_size=(3,3), padding=\"Same\", activation=\"relu\", input_shape=(28, 28, 1)))\n",
        "model.add(Conv2D(filters=32, kernel_size=(3,3), padding=\"Same\", activation=\"relu\"))\n",
        "model.add(MaxPooling2D())\n",
        "model.add(BatchNormalization())\n",
        "\n",
        "\n",
        "model.add(Conv2D(filters=64, kernel_size=(3,3), padding=\"Same\", activation=\"relu\"))\n",
        "model.add(Conv2D(filters=64, kernel_size=(3,3), padding=\"Same\", activation=\"relu\"))\n",
        "model.add(MaxPooling2D())\n",
        "model.add(BatchNormalization())\n",
        "\n",
        "model.add(Flatten())\n",
        "model.add(Dense(1024, activation=\"relu\"))\n",
        "model.add(Dense(10, activation=\"softmax\"))"
      ],
      "execution_count": 9,
      "outputs": []
    },
    {
      "cell_type": "code",
      "metadata": {
        "id": "iGenvI2HOnG3",
        "colab_type": "code",
        "colab": {}
      },
      "source": [
        "model.compile(optimizer=Adam(), loss=\"categorical_crossentropy\", metrics=[\"accuracy\"])"
      ],
      "execution_count": 10,
      "outputs": []
    },
    {
      "cell_type": "code",
      "metadata": {
        "id": "z4jNq2g6Rz0S",
        "colab_type": "code",
        "colab": {
          "base_uri": "https://localhost:8080/",
          "height": 521
        },
        "outputId": "6b7e4d1a-f8c4-4049-a700-030cc23885c6"
      },
      "source": [
        "model.summary()"
      ],
      "execution_count": 11,
      "outputs": [
        {
          "output_type": "stream",
          "text": [
            "Model: \"sequential\"\n",
            "_________________________________________________________________\n",
            "Layer (type)                 Output Shape              Param #   \n",
            "=================================================================\n",
            "conv2d (Conv2D)              (None, 28, 28, 32)        320       \n",
            "_________________________________________________________________\n",
            "conv2d_1 (Conv2D)            (None, 28, 28, 32)        9248      \n",
            "_________________________________________________________________\n",
            "max_pooling2d (MaxPooling2D) (None, 14, 14, 32)        0         \n",
            "_________________________________________________________________\n",
            "batch_normalization (BatchNo (None, 14, 14, 32)        128       \n",
            "_________________________________________________________________\n",
            "conv2d_2 (Conv2D)            (None, 14, 14, 64)        18496     \n",
            "_________________________________________________________________\n",
            "conv2d_3 (Conv2D)            (None, 14, 14, 64)        36928     \n",
            "_________________________________________________________________\n",
            "max_pooling2d_1 (MaxPooling2 (None, 7, 7, 64)          0         \n",
            "_________________________________________________________________\n",
            "batch_normalization_1 (Batch (None, 7, 7, 64)          256       \n",
            "_________________________________________________________________\n",
            "flatten (Flatten)            (None, 3136)              0         \n",
            "_________________________________________________________________\n",
            "dense (Dense)                (None, 1024)              3212288   \n",
            "_________________________________________________________________\n",
            "dense_1 (Dense)              (None, 10)                10250     \n",
            "=================================================================\n",
            "Total params: 3,287,914\n",
            "Trainable params: 3,287,722\n",
            "Non-trainable params: 192\n",
            "_________________________________________________________________\n"
          ],
          "name": "stdout"
        }
      ]
    },
    {
      "cell_type": "code",
      "metadata": {
        "id": "H6I8TUKQW85k",
        "colab_type": "code",
        "colab": {
          "base_uri": "https://localhost:8080/",
          "height": 689
        },
        "outputId": "911668df-987f-4e21-b328-add09b9b835e"
      },
      "source": [
        "history = model.fit(x_train, y_train, epochs=20, validation_data=(x_test, y_test), batch_size=128)"
      ],
      "execution_count": 12,
      "outputs": [
        {
          "output_type": "stream",
          "text": [
            "Epoch 1/20\n",
            "469/469 [==============================] - 270s 575ms/step - loss: 0.1134 - accuracy: 0.9697 - val_loss: 0.2247 - val_accuracy: 0.9431\n",
            "Epoch 2/20\n",
            "469/469 [==============================] - 269s 574ms/step - loss: 0.0351 - accuracy: 0.9896 - val_loss: 0.0633 - val_accuracy: 0.9810\n",
            "Epoch 3/20\n",
            "469/469 [==============================] - 269s 574ms/step - loss: 0.0212 - accuracy: 0.9937 - val_loss: 0.0522 - val_accuracy: 0.9861\n",
            "Epoch 4/20\n",
            "469/469 [==============================] - 269s 574ms/step - loss: 0.0175 - accuracy: 0.9944 - val_loss: 0.0346 - val_accuracy: 0.9906\n",
            "Epoch 5/20\n",
            "469/469 [==============================] - 269s 574ms/step - loss: 0.0176 - accuracy: 0.9947 - val_loss: 0.0486 - val_accuracy: 0.9862\n",
            "Epoch 6/20\n",
            "469/469 [==============================] - 268s 572ms/step - loss: 0.0139 - accuracy: 0.9956 - val_loss: 0.0450 - val_accuracy: 0.9887\n",
            "Epoch 7/20\n",
            "469/469 [==============================] - 268s 572ms/step - loss: 0.0111 - accuracy: 0.9964 - val_loss: 0.0379 - val_accuracy: 0.9915\n",
            "Epoch 8/20\n",
            "469/469 [==============================] - 269s 574ms/step - loss: 0.0127 - accuracy: 0.9966 - val_loss: 0.0537 - val_accuracy: 0.9882\n",
            "Epoch 9/20\n",
            "469/469 [==============================] - 274s 583ms/step - loss: 0.0132 - accuracy: 0.9963 - val_loss: 0.0368 - val_accuracy: 0.9907\n",
            "Epoch 10/20\n",
            "469/469 [==============================] - 271s 578ms/step - loss: 0.0066 - accuracy: 0.9980 - val_loss: 0.0478 - val_accuracy: 0.9890\n",
            "Epoch 11/20\n",
            "469/469 [==============================] - 269s 575ms/step - loss: 0.0113 - accuracy: 0.9969 - val_loss: 0.0504 - val_accuracy: 0.9899\n",
            "Epoch 12/20\n",
            "469/469 [==============================] - 269s 573ms/step - loss: 0.0097 - accuracy: 0.9975 - val_loss: 0.1096 - val_accuracy: 0.9816\n",
            "Epoch 13/20\n",
            "469/469 [==============================] - 266s 566ms/step - loss: 0.0068 - accuracy: 0.9977 - val_loss: 0.0422 - val_accuracy: 0.9909\n",
            "Epoch 14/20\n",
            "469/469 [==============================] - 267s 569ms/step - loss: 0.0041 - accuracy: 0.9988 - val_loss: 0.0387 - val_accuracy: 0.9917\n",
            "Epoch 15/20\n",
            "469/469 [==============================] - 261s 557ms/step - loss: 0.0061 - accuracy: 0.9983 - val_loss: 0.0480 - val_accuracy: 0.9903\n",
            "Epoch 16/20\n",
            "469/469 [==============================] - 265s 565ms/step - loss: 0.0098 - accuracy: 0.9972 - val_loss: 0.0474 - val_accuracy: 0.9894\n",
            "Epoch 17/20\n",
            "469/469 [==============================] - 263s 560ms/step - loss: 0.0053 - accuracy: 0.9983 - val_loss: 0.0595 - val_accuracy: 0.9910\n",
            "Epoch 18/20\n",
            "469/469 [==============================] - 263s 562ms/step - loss: 0.0052 - accuracy: 0.9986 - val_loss: 0.0361 - val_accuracy: 0.9935\n",
            "Epoch 19/20\n",
            "469/469 [==============================] - 264s 563ms/step - loss: 0.0032 - accuracy: 0.9991 - val_loss: 0.0399 - val_accuracy: 0.9933\n",
            "Epoch 20/20\n",
            "469/469 [==============================] - 260s 555ms/step - loss: 0.0077 - accuracy: 0.9982 - val_loss: 0.0479 - val_accuracy: 0.9911\n"
          ],
          "name": "stdout"
        }
      ]
    },
    {
      "cell_type": "code",
      "metadata": {
        "id": "nc4sQ-QjXX5Q",
        "colab_type": "code",
        "colab": {}
      },
      "source": [
        "train_accuracy = history.history[\"accuracy\"]\n",
        "val_accuracy = history.history[\"val_accuracy\"]\n",
        "train_loss = history.history[\"loss\"]\n",
        "val_loss = history.history[\"val_loss\"]\n",
        "epochs = range(len(train_accuracy))"
      ],
      "execution_count": 13,
      "outputs": []
    },
    {
      "cell_type": "code",
      "metadata": {
        "id": "RvUjYoD9ggJO",
        "colab_type": "code",
        "colab": {
          "base_uri": "https://localhost:8080/",
          "height": 336
        },
        "outputId": "f7e07a92-6967-4138-838d-eef324823998"
      },
      "source": [
        "plt.figure(figsize=(15,5))\n",
        "plt.subplot(1,2,1)\n",
        "plt.plot(epochs, train_accuracy, \"green\", label=\"Train Acc\")\n",
        "plt.plot(epochs, val_accuracy, \"blue\", label=\"Val Acc\")\n",
        "plt.title(\"Training and Validation Accuracy vs Number of Epochs\")\n",
        "plt.legend()\n",
        "plt.subplot(1,2,2)\n",
        "plt.plot(epochs, train_loss, \"green\", label=\"Train Loss\")\n",
        "plt.plot(epochs, val_loss, \"blue\", label=\"Val Loss\")\n",
        "plt.title(\"Training Loss vs Number of Epochs\")\n",
        "plt.legend()\n",
        "plt.show()"
      ],
      "execution_count": 19,
      "outputs": [
        {
          "output_type": "display_data",
          "data": {
            "image/png": "[encoded data removed]",
            "text/plain": [
              "<Figure size 1080x360 with 2 Axes>"
            ]
          },
          "metadata": {
            "tags": [],
            "needs_background": "light"
          }
        }
      ]
    },
    {
      "cell_type": "code",
      "metadata": {
        "id": "tOz_redS1JmJ",
        "colab_type": "code",
        "colab": {}
      },
      "source": [
        "y_hat = model.predict(x_test)\n",
        "y_pred = np.argmax(y_hat, axis=1)\n",
        "y_true = np.argmax(y_test, axis=1)\n",
        "cm = confusion_matrix(y_true, y_pred)"
      ],
      "execution_count": 33,
      "outputs": []
    },
    {
      "cell_type": "code",
      "metadata": {
        "id": "xnF8V68cYX7T",
        "colab_type": "code",
        "colab": {
          "base_uri": "https://localhost:8080/",
          "height": 34
        },
        "outputId": "ca43fc47-1c92-4863-bf67-f3ee9ea4788c"
      },
      "source": [
        "print(\"Accuracy Score: \", accuracy_score(y_true, y_pred))"
      ],
      "execution_count": 44,
      "outputs": [
        {
          "output_type": "stream",
          "text": [
            "Accuracy Score:  0.9911\n"
          ],
          "name": "stdout"
        }
      ]
    },
    {
      "cell_type": "code",
      "metadata": {
        "id": "FQICpY68XCgH",
        "colab_type": "code",
        "colab": {
          "base_uri": "https://localhost:8080/",
          "height": 374
        },
        "outputId": "0bf05994-41b0-4bd0-f49a-771bf0202815"
      },
      "source": [
        "plt.figure(figsize=(10,6)) \n",
        "sns.heatmap(cm, annot = True, fmt = \".0f\", cmap = \"YlGnBu\")\n",
        "plt.show()"
      ],
      "execution_count": 42,
      "outputs": [
        {
          "output_type": "display_data",
          "data": {
            "image/png": "[encoded data removed]",
            "text/plain": [
              "<Figure size 720x432 with 2 Axes>"
            ]
          },
          "metadata": {
            "tags": [],
            "needs_background": "light"
          }
        }
      ]
    },
    {
      "cell_type": "code",
      "metadata": {
        "id": "pD5XsgW8RmqN",
        "colab_type": "code",
        "colab": {
          "base_uri": "https://localhost:8080/",
          "height": 302
        },
        "outputId": "3def6bde-f53b-4b56-b190-50a4d74d14bf"
      },
      "source": [
        "print(classification_report(y_true, y_pred))"
      ],
      "execution_count": 21,
      "outputs": [
        {
          "output_type": "stream",
          "text": [
            "              precision    recall  f1-score   support\n",
            "\n",
            "           0       0.99      1.00      0.99       980\n",
            "           1       1.00      1.00      1.00      1135\n",
            "           2       0.99      0.99      0.99      1032\n",
            "           3       0.99      0.99      0.99      1010\n",
            "           4       0.99      0.99      0.99       982\n",
            "           5       0.99      1.00      0.99       892\n",
            "           6       0.99      0.98      0.99       958\n",
            "           7       0.99      0.99      0.99      1028\n",
            "           8       0.98      1.00      0.99       974\n",
            "           9       0.99      0.98      0.99      1009\n",
            "\n",
            "    accuracy                           0.99     10000\n",
            "   macro avg       0.99      0.99      0.99     10000\n",
            "weighted avg       0.99      0.99      0.99     10000\n",
            "\n"
          ],
          "name": "stdout"
        }
      ]
    },
    {
      "cell_type": "code",
      "metadata": {
        "id": "VLkhA44vUq4v",
        "colab_type": "code",
        "colab": {
          "base_uri": "https://localhost:8080/",
          "height": 623
        },
        "outputId": "886e193e-316f-4b3a-db2c-e5192fc27b09"
      },
      "source": [
        "plt.figure(figsize=(10,10))\n",
        "plt.subplot(2,2,1)\n",
        "plt.imshow(x_test[0].reshape(28, 28), cmap=\"gray\")\n",
        "plt.title(\"True Label: {}\\n Precited Label: {}\".format(y_true[0], y_pred[0]))\n",
        "plt.subplot(2,2,2)\n",
        "plt.imshow(x_test[1].reshape(28, 28), cmap=\"gray\")\n",
        "plt.title(\"True Label: {}\\n Precited Label: {}\".format(y_true[1], y_pred[1]))\n",
        "plt.subplot(2,2,3)\n",
        "plt.imshow(x_test[2].reshape(28, 28), cmap=\"gray\")\n",
        "plt.title(\"True Label: {}\\n Precited Label: {}\".format(y_true[2], y_pred[2]))\n",
        "plt.subplot(2,2,4)\n",
        "plt.imshow(x_test[3].reshape(28, 28), cmap=\"gray\")\n",
        "plt.title(\"True Label: {}\\n Precited Label: {}\".format(y_true[3], y_pred[3]))\n",
        "plt.show()"
      ],
      "execution_count": 28,
      "outputs": [
        {
          "output_type": "display_data",
          "data": {
            "image/png": "[encoded data removed]",
            "text/plain": [
              "<Figure size 720x720 with 4 Axes>"
            ]
          },
          "metadata": {
            "tags": [],
            "needs_background": "light"
          }
        }
      ]
    },
    {
      "cell_type": "code",
      "metadata": {
        "id": "Zt3Ve4pOW0Ku",
        "colab_type": "code",
        "colab": {}
      },
      "source": [
        ""
      ],
      "execution_count": null,
      "outputs": []
    }
  ]
}